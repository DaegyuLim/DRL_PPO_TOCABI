{
 "cells": [
  {
   "cell_type": "code",
   "execution_count": 1,
   "metadata": {},
   "outputs": [
    {
     "name": "stderr",
     "output_type": "stream",
     "text": [
      "/home/dg/anaconda3/lib/python3.5/site-packages/matplotlib/font_manager.py:232: UserWarning: Matplotlib is building the font cache using fc-list. This may take a moment.\n",
      "  'Matplotlib is building the font cache using fc-list. '\n"
     ]
    },
    {
     "name": "stdout",
     "output_type": "stream",
     "text": [
      "Load Packages\n"
     ]
    }
   ],
   "source": [
    "from gym import utils\n",
    "from gym.envs.toy_text import discrete\n",
    "\n",
    "import numpy as np\n",
    "import matplotlib.pyplot as plt\n",
    "import matplotlib.cm as cm\n",
    "%matplotlib inline\n",
    "from tf_tsallis_statistics import *\n",
    "print('Load Packages')"
   ]
  },
  {
   "cell_type": "markdown",
   "metadata": {},
   "source": [
    "# Customized Grid World"
   ]
  },
  {
   "cell_type": "code",
   "execution_count": 2,
   "metadata": {},
   "outputs": [],
   "source": [
    "LEFT = 0\n",
    "DOWN = 1\n",
    "RIGHT = 2\n",
    "UP = 3\n",
    "\n",
    "MAPS = {\n",
    "    \"SIMPLE\": [\n",
    "        \"SFFF\",\n",
    "        \"FFFF\",\n",
    "        \"FFFF\",\n",
    "        \"FFFG\"\n",
    "    ],\n",
    "    \"1-HOLE\": [\n",
    "        \"SFFF\",\n",
    "        \"FHFF\",\n",
    "        \"FFFF\",\n",
    "        \"FFFG\"\n",
    "    ],\n",
    "    \"3-HOLE\": [\n",
    "        \"SFFH\",\n",
    "        \"FHFF\",\n",
    "        \"FHFF\",\n",
    "        \"FFFG\"\n",
    "    ],\n",
    "    \"4-HOLE\": [\n",
    "        \"SFFH\",\n",
    "        \"FHFF\",\n",
    "        \"FHFF\",\n",
    "        \"FFHG\"\n",
    "    ]\n",
    "}\n",
    "\n",
    "class FrozenLakeEnv(discrete.DiscreteEnv):\n",
    "    \"\"\"\n",
    "    Winter is here. You and your friends were tossing around a frisbee at the park\n",
    "    when you made a wild throw that left the frisbee out in the middle of the lake.\n",
    "    The water is mostly frozen, but there are a few holes where the ice has melted.\n",
    "    If you step into one of those holes, you'll fall into the freezing water.\n",
    "    At this time, there's an international frisbee shortage, so it's absolutely imperative that\n",
    "    you navigate across the lake and retrieve the disc.\n",
    "    However, the ice is slippery, so you won't always move in the direction you intend.\n",
    "    The surface is described using a grid like the following\n",
    "\n",
    "        SFFF\n",
    "        FHFH\n",
    "        FFFH\n",
    "        HFFG\n",
    "\n",
    "    S : starting point, safe\n",
    "    F : frozen surface, safe\n",
    "    R : random hole, fall to your doom or not\n",
    "    H : hole, fall to your doom\n",
    "    G : goal, where the frisbee is located\n",
    "\n",
    "    The episode ends when you reach the goal or fall in a hole.\n",
    "    You receive a reward of 1 if you reach the goal, and zero otherwise.\n",
    "\n",
    "    \"\"\"\n",
    "\n",
    "    metadata = {'render.modes': ['human', 'ansi']}\n",
    "\n",
    "    def __init__(self, desc=None, map_name=\"SIMPLE\",is_slippery=True):\n",
    "        if desc is None and map_name is None:\n",
    "            raise ValueError('Must provide either desc or map_name')\n",
    "        elif desc is None:\n",
    "            desc = MAPS[map_name]\n",
    "        self.desc = desc = np.asarray(desc,dtype='c')\n",
    "        self.nrow, self.ncol = nrow, ncol = desc.shape\n",
    "        self.reward_range = (0, 1)\n",
    "\n",
    "        nA = 4\n",
    "        nS = nrow * ncol\n",
    "\n",
    "        isd = np.array(desc == b'S').astype('float64').ravel()\n",
    "        isd /= isd.sum()\n",
    "\n",
    "        P = {s : {a : [] for a in range(nA)} for s in range(nS)}\n",
    "\n",
    "        def to_s(row, col):\n",
    "            return row*ncol + col\n",
    "        \n",
    "        def inc(row, col, a):\n",
    "            if a==0: # left\n",
    "                col = max(col-1,0)\n",
    "            elif a==1: # down\n",
    "                row = min(row+1,nrow-1)\n",
    "            elif a==2: # right\n",
    "                col = min(col+1,ncol-1)\n",
    "            elif a==3: # up\n",
    "                row = max(row-1,0)\n",
    "            return (row, col)\n",
    "\n",
    "        for row in range(nrow):\n",
    "            for col in range(ncol):\n",
    "                s = to_s(row, col)\n",
    "                for a in range(4):\n",
    "                    li = P[s][a]\n",
    "                    letter = desc[row, col]\n",
    "                    if letter in b'GH':\n",
    "                        li.append((1.0, s, 0, True))\n",
    "                    else:\n",
    "                        if is_slippery:\n",
    "                            for b in [(a-1)%4, a, (a+1)%4]:\n",
    "                                newrow, newcol = inc(row, col, b)\n",
    "                                newstate = to_s(newrow, newcol)\n",
    "                                newletter = desc[newrow, newcol]\n",
    "                                done = bytes(newletter) in b'GH'\n",
    "                                if newletter == b'G':\n",
    "                                    rew = 2\n",
    "                                elif newletter == b'H':\n",
    "                                    rew = -0.5\n",
    "                                else:    \n",
    "                                    rew = 0\n",
    "                                \n",
    "                                if b == a:\n",
    "                                    li.append((0.8, newstate, rew, done))\n",
    "                                else:\n",
    "                                    li.append((0.1, newstate, rew, done))\n",
    "                        else:\n",
    "                            newrow, newcol = inc(row, col, a)\n",
    "                            newstate = to_s(newrow, newcol)\n",
    "                            newletter = desc[newrow, newcol]\n",
    "                            done = bytes(newletter) in b'GH'\n",
    "                            rew = float(newletter == b'G')\n",
    "                            li.append((1.0, newstate, rew, done))\n",
    "\n",
    "        super(FrozenLakeEnv, self).__init__(nS, nA, P, isd)\n",
    "\n",
    "    def render(self, mode='human'):\n",
    "        outfile = StringIO() if mode == 'ansi' else sys.stdout\n",
    "\n",
    "        row, col = self.s // self.ncol, self.s % self.ncol\n",
    "        desc = self.desc.tolist()\n",
    "        desc = [[c.decode('utf-8') for c in line] for line in desc]\n",
    "        desc[row][col] = utils.colorize(desc[row][col], \"red\", highlight=True)\n",
    "        if self.lastaction is not None:\n",
    "            outfile.write(\"  ({})\\n\".format([\"Left\",\"Down\",\"Right\",\"Up\"][self.lastaction]))\n",
    "        else:\n",
    "            outfile.write(\"\\n\")\n",
    "        outfile.write(\"\\n\".join(''.join(line) for line in desc)+\"\\n\")\n",
    "\n",
    "        if mode != 'human':\n",
    "            return outfile"
   ]
  },
  {
   "cell_type": "markdown",
   "metadata": {},
   "source": [
    "# World Information"
   ]
  },
  {
   "cell_type": "code",
   "execution_count": 3,
   "metadata": {},
   "outputs": [
    {
     "name": "stdout",
     "output_type": "stream",
     "text": [
      "Observation space\n",
      "Total 16 states\n",
      "Action space\n",
      "Total 4 actions\n"
     ]
    }
   ],
   "source": [
    "env = FrozenLakeEnv(map_name='4-HOLE')\n",
    "\n",
    "obs_space = env.observation_space\n",
    "n_state = obs_space.n\n",
    "print('Observation space')\n",
    "print(\"Total {} states\".format(n_state))\n",
    "\n",
    "act_space = env.action_space\n",
    "n_act = act_space.n\n",
    "print('Action space')\n",
    "print(\"Total {} actions\".format(n_act))"
   ]
  },
  {
   "cell_type": "markdown",
   "metadata": {},
   "source": [
    "# Comparison between original Value Iteration and Tsallis Value Iteration"
   ]
  },
  {
   "cell_type": "code",
   "execution_count": 4,
   "metadata": {},
   "outputs": [],
   "source": [
    "def value_iteration(env,gamma=0.9,epsilon=1e-4):\n",
    "    obs_space = env.observation_space\n",
    "    n_state = obs_space.n\n",
    "    act_space = env.action_space\n",
    "    n_act = act_space.n\n",
    "    \n",
    "    P = np.zeros((n_state,n_act,n_state))\n",
    "    r = np.zeros((n_state,n_act,n_state))\n",
    "    for s in env.unwrapped.P.keys(): # For all states s, update v(s)\n",
    "        for a in env.unwrapped.P[s].keys(): # For all actions a\n",
    "            for prob, next_s, reward, done in env.unwrapped.P[s][a]: # For all possible transitions (s,a,s')\n",
    "                P[s][a][next_s]=prob\n",
    "                r[s][a][next_s]=reward\n",
    "                \n",
    "    value = np.random.uniform(size=(n_state,))\n",
    "    \n",
    "    while True: \n",
    "        q = np.sum((r+gamma*np.tile(value[np.newaxis,np.newaxis,:],reps=(n_state,n_act,1)))*P,axis=2)\n",
    "        v_prime = np.max(q,axis=1)\n",
    "        v_prime = v_prime.reshape(-1,)\n",
    "        dist = np.max(np.abs(value-v_prime))\n",
    "        value = v_prime\n",
    "        if dist < epsilon:\n",
    "            break\n",
    "            \n",
    "    policy = np.zeros([n_state,n_act])\n",
    "    policy[np.arange(n_state),np.argmax(q, axis=1)] = 1.0\n",
    "    return policy, value\n",
    "\n",
    "def tsallis_value_iteration(env,gamma=0.9,epsilon=1e-4, q_index =1.0, temperature=1e-3):\n",
    "    obs_space = env.observation_space\n",
    "    n_state = obs_space.n\n",
    "    act_space = env.action_space\n",
    "    n_act = act_space.n\n",
    "    \n",
    "    P = np.zeros((n_state,n_act,n_state))\n",
    "    r = np.zeros((n_state,n_act,n_state))\n",
    "    for s in env.unwrapped.P.keys(): # For all states s, update v(s)\n",
    "        for a in env.unwrapped.P[s].keys(): # For all actions a\n",
    "            for prob, next_s, reward, done in env.unwrapped.P[s][a]: # For all possible transitions (s,a,s')\n",
    "                P[s][a][next_s]=prob\n",
    "                r[s][a][next_s]=reward\n",
    "                \n",
    "    r = r/temperature\n",
    "    value = np.random.uniform(size=(n_state,))\n",
    "    \n",
    "    while True: \n",
    "        q = np.sum((r+gamma*np.tile(value[np.newaxis,np.newaxis,:],reps=(n_state,n_act,1)))*P,axis=2)\n",
    "        v_prime,_ = np_max_q(q,q=q_index)\n",
    "        v_prime = v_prime.reshape(-1,)\n",
    "        dist = np.max(np.abs(value-v_prime))\n",
    "        value = v_prime\n",
    "        if dist < epsilon:\n",
    "            break\n",
    "            \n",
    "    _, policy = np_max_q(q,q=q_index)\n",
    "    return policy, value\n",
    "\n",
    "def policy_evaluation(env,policy,gamma=0.9,epsilon=1e-4):\n",
    "    obs_space = env.observation_space\n",
    "    n_state = obs_space.n\n",
    "    act_space = env.action_space\n",
    "    n_act = act_space.n\n",
    "    \n",
    "    P = np.zeros((n_state,n_act,n_state))\n",
    "    r = np.zeros((n_state,n_act,n_state))\n",
    "    for s in env.unwrapped.P.keys(): # For all states s, update v(s)\n",
    "        for a in env.unwrapped.P[s].keys(): # For all actions a\n",
    "            for prob, next_s, reward, done in env.unwrapped.P[s][a]: # For all possible transitions (s,a,s')\n",
    "                P[s][a][next_s]=prob\n",
    "                r[s][a][next_s]=reward\n",
    "                    \n",
    "    value = np.random.uniform(size=(n_state,))\n",
    "    \n",
    "    while True: \n",
    "        q = np.sum((r+gamma*value[np.newaxis,np.newaxis,:])*P,axis=2)\n",
    "        v_prime = np.sum(q*policy,axis=1)\n",
    "        v_prime = v_prime.reshape(-1,)\n",
    "        dist = np.max(np.abs(value-v_prime))\n",
    "        value = v_prime\n",
    "        if dist < epsilon:\n",
    "            break\n",
    "    return value\n",
    "            \n",
    "def plot_results(policy, value, title=\"Value Function\"):\n",
    "    plt.figure(num=0)\n",
    "    plt.imshow(np.reshape(value,(8,8)))\n",
    "    plt.title(title)  \n",
    "    arr_len = 0.2\n",
    "    for i in range(8):\n",
    "        for j in range(8):\n",
    "            s = i*8+j\n",
    "            if policy[s][0]> 0:\n",
    "                plt.arrow(j,i,-arr_len,0,alpha=policy[s][0], head_width=0.1, head_length=0.2, fc='r', ec='r')\n",
    "            if policy[s][1]> 0:\n",
    "                plt.arrow(j,i,0,arr_len,alpha=policy[s][1], head_width=0.1, head_length=0.2, fc='r', ec='r')\n",
    "            if policy[s][2]> 0:\n",
    "                plt.arrow(j,i,arr_len,0,alpha=policy[s][2], head_width=0.1, head_length=0.2, fc='r', ec='r')\n",
    "            if policy[s][3]> 0:\n",
    "                plt.arrow(j,i,0,-arr_len,alpha=policy[s][3], head_width=0.1, head_length=0.2, fc='r', ec='r')\n",
    "    plt.show()\n",
    "    \n",
    "if __name__=='__main__':\n",
    "    temp = 1e-1\n",
    "    gamma = 0.7\n",
    "    policy, value = value_iteration(env,gamma=gamma)\n",
    "    value = policy_evaluation(env,policy,gamma=gamma)\n",
    "    \n",
    "    J_opt = value[0]\n",
    "    \n",
    "    q_list = [1.0,1.2,1.5,1.7,2.0,2.5,3.0,5.0,7.0,10.0]\n",
    "    \n",
    "    upper_list = J_opt*np.ones_like(q_list)\n",
    "    lower_list = J_opt*np.ones_like(q_list)\n",
    "    J_q_list = np.zeros_like(q_list)\n",
    "    \n",
    "    for q_idx in range(len(q_list)):\n",
    "        q=q_list[q_idx]\n",
    "        \n",
    "        lower_list[q_idx] = lower_list[q_idx] + temp*1/(1-gamma)*np_log_q(np.array(1/4.),q=2.-q)\n",
    "        \n",
    "        policy, value = tsallis_value_iteration(env,gamma=gamma,q_index=2-q,temperature=temp)\n",
    "        value = policy_evaluation(env,policy,gamma=gamma)\n",
    "        J_q_list[q_idx] = value[0]"
   ]
  },
  {
   "cell_type": "markdown",
   "metadata": {},
   "source": [
    "# Plot results with bounds"
   ]
  },
  {
   "cell_type": "code",
   "execution_count": 5,
   "metadata": {},
   "outputs": [
    {
     "data": {
      "image/png": "[encoded data removed]",
      "text/plain": [
       "<Figure size 288x216 with 1 Axes>"
      ]
     },
     "metadata": {
      "needs_background": "light"
     },
     "output_type": "display_data"
    }
   ],
   "source": [
    "SMALL_SIZE = 15\n",
    "MEDIUM_SIZE = 18\n",
    "BIGGER_SIZE = 20\n",
    "\n",
    "plt.rc('font', size=SMALL_SIZE)          # controls default text sizes\n",
    "plt.rc('axes', titlesize=SMALL_SIZE)     # fontsize of the axes title\n",
    "plt.rc('axes', labelsize=MEDIUM_SIZE)    # fontsize of the x and y labels\n",
    "plt.rc('xtick', labelsize=SMALL_SIZE)    # fontsize of the tick labels\n",
    "plt.rc('ytick', labelsize=SMALL_SIZE)    # fontsize of the tick labels\n",
    "plt.rc('legend', fontsize=SMALL_SIZE)    # legend fontsize\n",
    "\n",
    "plt.figure(figsize=(4,3))\n",
    "cmap = cm.get_cmap('Set1')\n",
    "color_list=cmap(np.linspace(0,0.3,3))\n",
    "plt.plot(q_list,J_q_list,label=r\"Performance of $\\pi^\\star_q$\",color=color_list[0],linestyle=\"-\",lw=4)\n",
    "plt.plot(q_list,upper_list,label=\"Upper Bound\",color=color_list[1],linestyle=\":\",lw=4)\n",
    "plt.plot(q_list,lower_list,label=\"Lower Bound\",color=color_list[2],linestyle=\"-.\",lw=4)\n",
    "plt.title(\"Performance Error Bound\".format(q),size=BIGGER_SIZE)\n",
    "plt.xlim([np.min(q_list),np.max(q_list)])\n",
    "plt.xlabel(r\"Entropic Index ($q$)\")\n",
    "plt.ylim([J_opt-0.4,J_opt+0.01])\n",
    "plt.ylabel(r\"Expected Return\")\n",
    "plt.legend()\n",
    "plt.show()"
   ]
  },
  {
   "cell_type": "markdown",
   "metadata": {},
   "source": [
    "# Plot world examples"
   ]
  },
  {
   "cell_type": "code",
   "execution_count": 6,
   "metadata": {},
   "outputs": [
    {
     "data": {
      "image/png": "[encoded data removed]",
      "text/plain": [
       "<Figure size 288x216 with 1 Axes>"
      ]
     },
     "metadata": {
      "needs_background": "light"
     },
     "output_type": "display_data"
    },
    {
     "data": {
      "image/png": "[encoded data removed]",
      "text/plain": [
       "<Figure size 144x144 with 1 Axes>"
      ]
     },
     "metadata": {
      "needs_background": "light"
     },
     "output_type": "display_data"
    },
    {
     "data": {
      "image/png": "[encoded data removed]",
      "text/plain": [
       "<Figure size 144x144 with 1 Axes>"
      ]
     },
     "metadata": {
      "needs_background": "light"
     },
     "output_type": "display_data"
    }
   ],
   "source": [
    "nrow = ncol =4\n",
    "rew_map = np.zeros([nrow,ncol])\n",
    "for row in range(nrow):\n",
    "    for col in range(ncol):\n",
    "        newletter = env.desc[row][col]\n",
    "        if newletter == b'G':\n",
    "            rew = 2\n",
    "        elif newletter == b'H':\n",
    "            rew = -0.5\n",
    "        else:    \n",
    "            rew = 0\n",
    "        rew_map[row,col] = rew\n",
    "        \n",
    "plt.figure(figsize=(4,3))\n",
    "plt.imshow(rew_map)\n",
    "plt.xticks([0,1,2,3])\n",
    "plt.yticks([0,1,2,3])\n",
    "plt.title(\"Rewards Map\",size=BIGGER_SIZE)\n",
    "plt.show()\n",
    " \n",
    "plt.figure(figsize=(2,2))\n",
    "arr_len = 0.5\n",
    "plt.arrow(0,0,-arr_len,0, head_width=0.2, head_length=0.3, lw=10, fc='r', ec='r')\n",
    "plt.arrow(0,0,0,arr_len, head_width=0.2, head_length=0.3, lw=10, fc='r', ec='r')\n",
    "plt.arrow(0,0,arr_len,0, head_width=0.2, head_length=0.3, lw=10, fc='r', ec='r')\n",
    "plt.arrow(0,0,0,-arr_len, head_width=0.2, head_length=0.3, lw=10, fc='r', ec='r')\n",
    "plt.axis('equal')\n",
    "plt.axis('off')\n",
    "plt.xlim([-1.0,1.0])\n",
    "plt.ylim([-1.0,1.0])\n",
    "plt.title(\"Actions\",size=BIGGER_SIZE)\n",
    "plt.show()\n",
    "\n",
    "plt.figure(figsize=(2,2))\n",
    "arr_len = 1.0\n",
    "plt.arrow(-0.4,0.5,0,arr_len*0.2, head_width=0.1, head_length=0.2, lw=3, fc='r', ec='r')\n",
    "plt.arrow(0.1,0,-arr_len*0.1,0, head_width=0.1, head_length=0.1, lw=3, fc='b', ec='b')\n",
    "plt.arrow(0.1,0,0,arr_len*0.8, head_width=0.1, head_length=0.1, lw=3, fc='b', ec='b')\n",
    "plt.arrow(0.1,0,arr_len*0.1,0, head_width=0.1, head_length=0.1, lw=3, fc='b', ec='b')\n",
    "plt.text(-0.6, 0.3, 'action', fontsize=15)\n",
    "plt.text(0.2, 0.5, '0.8', fontsize=15)\n",
    "plt.text(0.4, 0, '0.1', fontsize=15)\n",
    "plt.text(-0.4,0, '0.1', fontsize=15)\n",
    "plt.axis('equal')\n",
    "plt.axis('off')\n",
    "plt.xlim([-1.0,1.0])\n",
    "plt.ylim([-0.2,1.0])\n",
    "plt.title(\"Transition\",size=BIGGER_SIZE)\n",
    "plt.show()"
   ]
  }
 ],
 "metadata": {
  "kernelspec": {
   "display_name": "Python 3",
   "language": "python",
   "name": "python3"
  },
  "language_info": {
   "codemirror_mode": {
    "name": "ipython",
    "version": 3
   },
   "file_extension": ".py",
   "mimetype": "text/x-python",
   "name": "python",
   "nbconvert_exporter": "python",
   "pygments_lexer": "ipython3",
   "version": "3.5.0"
  }
 },
 "nbformat": 4,
 "nbformat_minor": 2
}
